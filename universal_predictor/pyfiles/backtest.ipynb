{
 "cells": [
  {
   "cell_type": "code",
   "execution_count": 1,
   "metadata": {},
   "outputs": [
    {
     "data": {
      "text/plain": [
       "['cb']"
      ]
     },
     "execution_count": 1,
     "metadata": {},
     "output_type": "execute_result"
    }
   ],
   "source": [
    "import os\n",
    "from tqdm import tqdm\n",
    "from train import parse_and_preprocess_data, preprocess_for_training\n",
    "from predict import ModelPrediction\n",
    "from datetime import datetime\n",
    "import numpy as np\n",
    "import pandas as pd\n",
    "import plotly.graph_objects as go\n",
    "from scipy.interpolate import griddata\n",
    "\n",
    "# Load configuration from environment variables\n",
    "symbol = os.getenv('SYMBOL')\n",
    "interval = int(os.getenv('INTERVAL'))\n",
    "tss_n_splits = int(os.getenv('TSS_N_SPLITS'))\n",
    "n_back_features = int(os.getenv('N_BACK_FEATURES'))\n",
    "tss_test_size = int(os.getenv('TSS_TEST_SIZE'))\n",
    "\n",
    "os.listdir('../weis/')"
   ]
  },
  {
   "cell_type": "markdown",
   "metadata": {},
   "source": [
    "### Parse backtest data"
   ]
  },
  {
   "cell_type": "code",
   "execution_count": 33,
   "metadata": {},
   "outputs": [
    {
     "name": "stdout",
     "output_type": "stream",
     "text": [
      "(1760, 196)\n"
     ]
    }
   ],
   "source": [
    "parsing_params = {\n",
    "    'category': 'linear',\n",
    "    'symbol': symbol,\n",
    "    'interval': interval,\n",
    "    'testnet': False,\n",
    "    'start_date': datetime(2024, 8, 10),\n",
    "    'end_date': datetime.now()\n",
    "}\n",
    "\n",
    "backtest_data_dict = parse_and_preprocess_data(parsing_params, False)"
   ]
  },
  {
   "cell_type": "markdown",
   "metadata": {},
   "source": [
    "### Prediction"
   ]
  },
  {
   "cell_type": "code",
   "execution_count": 34,
   "metadata": {},
   "outputs": [],
   "source": [
    "prediction_model = ModelPrediction(\n",
    "        model_directory='../weis/',\n",
    "        verbose=False\n",
    ")\n",
    "\n",
    "# Initialize lists to store aggregated probabilities\n",
    "buy_probas, hold_probas, sell_probas = [], [], []\n",
    "\n",
    "# Loop through each dataframe and corresponding model to get predictions\n",
    "for key, backtest_data in backtest_data_dict.items():\n",
    "    _, _, _, X, _ = preprocess_for_training(backtest_data)\n",
    "    backtest_data = backtest_data.iloc[-len(X):].reset_index(drop=True)\n",
    "\n",
    "    # Get predictions\n",
    "    buy_proba, hold_proba, sell_proba = prediction_model.predict(X)\n",
    "    buy_probas.append(buy_proba)\n",
    "    hold_probas.append(hold_proba)\n",
    "    sell_probas.append(sell_proba)\n",
    "\n",
    "# Average the probabilities across all models\n",
    "buy_probas = np.mean(buy_probas, axis=0)\n",
    "sell_probas = np.mean(sell_probas, axis=0)\n",
    "hold_probas = np.mean(hold_probas, axis=0)\n",
    "\n",
    "# Combine the probabilities into a list of tuples for further processing\n",
    "preds = list(zip(buy_probas, hold_probas, sell_probas))"
   ]
  },
  {
   "cell_type": "markdown",
   "metadata": {},
   "source": [
    "### Make predictions and decisions"
   ]
  },
  {
   "cell_type": "code",
   "execution_count": 42,
   "metadata": {},
   "outputs": [],
   "source": [
    "ts = [0.67, 0, 0.67]\n",
    "\n",
    "def make_decision(x, ts): \n",
    "    b, h, s = x\n",
    "    if b > ts[0]:\n",
    "        return 0\n",
    "    elif s > ts[2]:\n",
    "        return 2\n",
    "    else:\n",
    "        return 1\n",
    "\n",
    "decisions = [make_decision(x, ts) for x in preds]"
   ]
  },
  {
   "cell_type": "markdown",
   "metadata": {},
   "source": [
    "### Backtest the strategy"
   ]
  },
  {
   "cell_type": "code",
   "execution_count": null,
   "metadata": {},
   "outputs": [
    {
     "name": "stdout",
     "output_type": "stream",
     "text": [
      "26.786494596342663\n"
     ]
    }
   ],
   "source": [
    "def backtest_strategy(decisions, initial_balance=10000, price_data=None, taker_fee=0.001, maker_fee=0.001):\n",
    "    balance = initial_balance\n",
    "    position = 0  # Current position: +1 for holding, 0 for no position\n",
    "    transaction_log = []  # To keep track of all transactions\n",
    "\n",
    "    for i, decision in enumerate(decisions):\n",
    "        price = price_data[i] if price_data is not None else 100  # Assume a default price if not provided\n",
    "        \n",
    "        if decision == 0:  # Buy\n",
    "            if position == 0:  # Only buy if not holding\n",
    "                position = (balance / price) * (1 - taker_fee)  # Buy as much as possible minus fees\n",
    "                balance = 0  # Spend all balance\n",
    "                transaction_log.append(f\"Buy at {price} with {taker_fee*100}% fee\")\n",
    "        elif decision == 2:  # Sell\n",
    "            if position > 0:  # Only sell if holding\n",
    "                balance = position * price * (1 - taker_fee)  # Sell all holdings minus fees\n",
    "                position = 0  # Clear position\n",
    "                transaction_log.append(f\"Sell at {price} with {taker_fee*100}% fee\")\n",
    "        # No action needed for hold (1)\n",
    "\n",
    "    # If still holding at the end, sell at the last price\n",
    "    if position > 0:\n",
    "        balance = position * price * (1 - taker_fee)  # Sell all at the last known price minus fees\n",
    "        transaction_log.append(f\"Final sell at {price} with {taker_fee*100}% fee\")\n",
    "\n",
    "    final_balance = balance\n",
    "    roi = (final_balance - initial_balance) / initial_balance * 100\n",
    "\n",
    "    return final_balance, roi\n",
    "\n",
    "initial_balance = 100\n",
    "\n",
    "# Run the backtest\n",
    "final_balance, roi = backtest_strategy(decisions, initial_balance, backtest_data['CLOSE'])\n",
    "\n",
    "print(roi)"
   ]
  },
  {
   "cell_type": "markdown",
   "metadata": {},
   "source": [
    "### Grid searching the best thresholds"
   ]
  },
  {
   "cell_type": "code",
   "execution_count": null,
   "metadata": {},
   "outputs": [],
   "source": [
    "all_tss, all_rois, all_tss_1 = [], [], []\n",
    "\n",
    "triplets = []\n",
    "\n",
    "for thresh in tqdm(np.linspace(0.51, 0.9, 70)):\n",
    "    for thresh_1 in np.linspace(0.51, 0.9, 70):\n",
    "        tss = [thresh, 0, thresh_1]\n",
    "    \n",
    "        gs_decisions = [make_decision(x, tss) for x in preds]\n",
    "    \n",
    "        final_balance, roi = backtest_strategy(gs_decisions, initial_balance, backtest_data['CLOSE'])\n",
    "    \n",
    "        triplets.append([thresh, thresh_1, roi])\n",
    "        \n",
    "index = max(range(len(triplets)), key=lambda i: triplets[i][2])\n",
    "triplets[index]"
   ]
  },
  {
   "cell_type": "code",
   "execution_count": null,
   "metadata": {},
   "outputs": [],
   "source": [
    "# Convert triplets to a DataFrame\n",
    "df = pd.DataFrame(triplets, columns=['x', 'y', 'metrics'])\n",
    "\n",
    "# Create a grid\n",
    "grid_x, grid_y = np.mgrid[\n",
    "    df['x'].min():df['x'].max():100j, \n",
    "    df['y'].min():df['y'].max():100j\n",
    "]\n",
    "\n",
    "# Interpolate the metrics onto the grid\n",
    "grid_z = griddata(\n",
    "    (df['x'], df['y']), df['metrics'], \n",
    "    (grid_x, grid_y), method='cubic'\n",
    ")\n",
    "\n",
    "# Create the heatmap using Plotly\n",
    "fig = go.Figure(data=go.Heatmap(\n",
    "    z=grid_z.T,  # Transpose to align with x and y axes\n",
    "    x=np.linspace(df['x'].min(), df['x'].max(), 100), \n",
    "    y=np.linspace(df['y'].min(), df['y'].max(), 100),\n",
    "    colorscale='Viridis'\n",
    "))\n",
    "\n",
    "fig.update_layout(\n",
    "    title='Interpolated Heatmap of Metrics',\n",
    "    xaxis_title='X axis',\n",
    "    yaxis_title='Y axis',\n",
    "    width=800,\n",
    "    height=800,\n",
    "    coloraxis_colorbar=dict(title=\"Metrics\")\n",
    ")\n",
    "\n",
    "# Show the figure\n",
    "fig.show()"
   ]
  },
  {
   "cell_type": "code",
   "execution_count": null,
   "metadata": {},
   "outputs": [],
   "source": [
    "def test_multiple_days(n_days_from_now):\n",
    "    for i in range(-1, n_days_from_now-1):\n",
    "\n",
    "        \n",
    "        now = datetime.now()\n",
    "        today = now.day\n",
    "        tomonth = now.month\n",
    "\n",
    "        print(f'Results for 2024-{tomonth}-{today-i-1}  --  2024-{tomonth}-{today-i}')\n",
    "        \n",
    "        parsing_params = {\n",
    "            'category': 'linear',\n",
    "            'symbol': symbol,\n",
    "            'interval': interval,\n",
    "            'testnet': False,\n",
    "            'start_date': datetime(2024, tomonth, today-i-1),\n",
    "            'end_date': datetime(2024, tomonth, today-i)\n",
    "        }\n",
    "        \n",
    "        backtest_data = parse_and_preprocess_data(parsing_params, False)\n",
    "        _, _, _, X, _ = preprocess_for_training(backtest_data)\n",
    "        backtest_data = backtest_data.iloc[-len(X):].reset_index(drop=True)\n",
    "\n",
    "        prediction_model = ModelPrediction(\n",
    "            model_path='../weis/cb',\n",
    "            verbose=False\n",
    "        ).model\n",
    "        \n",
    "        preds = prediction_model.predict_proba(X)\n",
    "    \n",
    "        all_tss, all_rois, all_tss_1 = [], [], []\n",
    "    \n",
    "        triplets = []\n",
    "        \n",
    "        for thresh in tqdm(np.linspace(0.51, 0.9, 30)):\n",
    "            for thresh_1 in np.linspace(0.51, 0.9, 30):\n",
    "                tss = [thresh, 0, thresh_1]\n",
    "            \n",
    "                gs_decisions = [make_decision(x, tss) for x in preds]\n",
    "            \n",
    "                final_balance, roi = backtest_strategy(gs_decisions, initial_balance, backtest_data['CLOSE'])\n",
    "            \n",
    "                triplets.append([thresh, thresh_1, roi])\n",
    "    \n",
    "        # Convert triplets to a DataFrame\n",
    "        df = pd.DataFrame(triplets, columns=['x', 'y', 'metrics'])\n",
    "        \n",
    "        # Create a grid\n",
    "        grid_x, grid_y = np.mgrid[\n",
    "            df['x'].min():df['x'].max():100j, \n",
    "            df['y'].min():df['y'].max():100j\n",
    "        ]\n",
    "        \n",
    "        # Interpolate the metrics onto the grid\n",
    "        grid_z = griddata(\n",
    "            (df['x'], df['y']), df['metrics'], \n",
    "            (grid_x, grid_y), method='cubic'\n",
    "        )\n",
    "        \n",
    "        # Create the heatmap using Plotly\n",
    "        fig = go.Figure(data=go.Heatmap(\n",
    "            z=grid_z.T,  # Transpose to align with x and y axes\n",
    "            x=np.linspace(df['x'].min(), df['x'].max(), 100), \n",
    "            y=np.linspace(df['y'].min(), df['y'].max(), 100),\n",
    "            colorscale='Viridis'\n",
    "        ))\n",
    "        \n",
    "        fig.update_layout(\n",
    "            title='Interpolated Heatmap of Metrics',\n",
    "            xaxis_title='X axis',\n",
    "            yaxis_title='Y axis',\n",
    "            width=800,\n",
    "            height=800,\n",
    "            coloraxis_colorbar=dict(title=\"Metrics\")\n",
    "        )\n",
    "        \n",
    "        # Show the figure\n",
    "        fig.show()\n",
    "        \n",
    "test_multiple_days(20)"
   ]
  }
 ],
 "metadata": {
  "kernelspec": {
   "display_name": "Python 3 (ipykernel)",
   "language": "python",
   "name": "python3"
  },
  "language_info": {
   "codemirror_mode": {
    "name": "ipython",
    "version": 3
   },
   "file_extension": ".py",
   "mimetype": "text/x-python",
   "name": "python",
   "nbconvert_exporter": "python",
   "pygments_lexer": "ipython3",
   "version": "3.11.9"
  }
 },
 "nbformat": 4,
 "nbformat_minor": 4
}
